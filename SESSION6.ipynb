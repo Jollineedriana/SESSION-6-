{
 "cells": [
  {
   "cell_type": "code",
   "execution_count": 1,
   "metadata": {},
   "outputs": [],
   "source": [
    "#list of elements\n",
    "a = (3,4,5,6)\n",
    "b = (7,8,9,2)\n",
    "c = (1,2,3,4)\n",
    "\n"
   ]
  },
  {
   "cell_type": "code",
   "execution_count": 2,
   "metadata": {},
   "outputs": [
    {
     "name": "stdout",
     "output_type": "stream",
     "text": [
      "[9.99, 7.99, 7.49, 7.0, 6.29, 4.99]\n"
     ]
    }
   ],
   "source": [
    "#list of CJ chicken\n",
    "CJprice = ([9.99,7.99,7.49,7.00,6.29,4.99])\n",
    "print(CJprice)"
   ]
  },
  {
   "cell_type": "code",
   "execution_count": 3,
   "metadata": {},
   "outputs": [
    {
     "name": "stdout",
     "output_type": "stream",
     "text": [
      "[7.5, 5, 4.4, 3.75, 2.25]\n"
     ]
    }
   ],
   "source": [
    "#list of KFC chicken\n",
    "KFCprice = ([7.5,5,4.4,3.75,2.25])\n",
    "print(KFCprice)"
   ]
  },
  {
   "cell_type": "code",
   "execution_count": 4,
   "metadata": {},
   "outputs": [
    {
     "name": "stdout",
     "output_type": "stream",
     "text": [
      "[9.99, 7.99, 7.49, 7.0, 6.29, 4.99, 7.5, 5, 4.4, 3.75, 2.25]\n"
     ]
    }
   ],
   "source": [
    "m=(CJprice + KFCprice)\n",
    "print(m)"
   ]
  },
  {
   "cell_type": "code",
   "execution_count": 6,
   "metadata": {},
   "outputs": [
    {
     "ename": "ModuleNotFoundError",
     "evalue": "No module named 'numpy'",
     "output_type": "error",
     "traceback": [
      "\u001b[1;31m---------------------------------------------------------------------------\u001b[0m",
      "\u001b[1;31mModuleNotFoundError\u001b[0m                       Traceback (most recent call last)",
      "\u001b[1;32mc:\\Users\\STUDENT\\Desktop\\WITI Cohort 3\\year one\\sem 1\\Data science and Machine learning\\assignment\\SESSION6.ipynb Cell 5\u001b[0m line \u001b[0;36m1\n\u001b[1;32m----> <a href='vscode-notebook-cell:/c%3A/Users/STUDENT/Desktop/WITI%20Cohort%203/year%20one/sem%201/Data%20science%20and%20Machine%20learning/assignment/SESSION6.ipynb#W4sZmlsZQ%3D%3D?line=0'>1</a>\u001b[0m \u001b[39mimport\u001b[39;00m \u001b[39mnumpy\u001b[39;00m \u001b[39mas\u001b[39;00m \u001b[39mnp\u001b[39;00m\n",
      "\u001b[1;31mModuleNotFoundError\u001b[0m: No module named 'numpy'"
     ]
    }
   ],
   "source": [
    "import numpy as np"
   ]
  },
  {
   "cell_type": "code",
   "execution_count": 7,
   "metadata": {},
   "outputs": [
    {
     "name": "stdout",
     "output_type": "stream",
     "text": [
      "[9.99, 7.99, 7.49, 7.0, 6.29, 4.99, 7.5, 5, 4.4, 3.75, 2.25]\n"
     ]
    }
   ],
   "source": [
    "d=(CJprice + KFCprice)\n",
    "print(d)"
   ]
  },
  {
   "cell_type": "code",
   "execution_count": 8,
   "metadata": {},
   "outputs": [
    {
     "name": "stdout",
     "output_type": "stream",
     "text": [
      "<class 'list'>\n",
      "5\n"
     ]
    }
   ],
   "source": [
    "KFC = ([7.5,5,4.4,3.75,2.25])\n",
    "print(type(KFC))\n",
    "print(len(KFC))"
   ]
  },
  {
   "cell_type": "code",
   "execution_count": 9,
   "metadata": {},
   "outputs": [
    {
     "name": "stdout",
     "output_type": "stream",
     "text": [
      "<class 'list'>\n",
      "6\n"
     ]
    }
   ],
   "source": [
    "CJ = ([9.99,7.99,7.49,7.00,6.29,4.99])\n",
    "print(type(CJ))\n",
    "print(len(CJ))\n"
   ]
  },
  {
   "cell_type": "code",
   "execution_count": 10,
   "metadata": {},
   "outputs": [
    {
     "ename": "ModuleNotFoundError",
     "evalue": "No module named 'numpy'",
     "output_type": "error",
     "traceback": [
      "\u001b[1;31m---------------------------------------------------------------------------\u001b[0m",
      "\u001b[1;31mModuleNotFoundError\u001b[0m                       Traceback (most recent call last)",
      "\u001b[1;32mc:\\Users\\STUDENT\\Desktop\\WITI Cohort 3\\year one\\sem 1\\Data science and Machine learning\\assignment\\SESSION6.ipynb Cell 9\u001b[0m line \u001b[0;36m2\n\u001b[0;32m      <a href='vscode-notebook-cell:/c%3A/Users/STUDENT/Desktop/WITI%20Cohort%203/year%20one/sem%201/Data%20science%20and%20Machine%20learning/assignment/SESSION6.ipynb#X11sZmlsZQ%3D%3D?line=0'>1</a>\u001b[0m \u001b[39m#creating lists as array\u001b[39;00m\n\u001b[1;32m----> <a href='vscode-notebook-cell:/c%3A/Users/STUDENT/Desktop/WITI%20Cohort%203/year%20one/sem%201/Data%20science%20and%20Machine%20learning/assignment/SESSION6.ipynb#X11sZmlsZQ%3D%3D?line=1'>2</a>\u001b[0m \u001b[39mimport\u001b[39;00m \u001b[39mnumpy\u001b[39;00m \u001b[39mas\u001b[39;00m \u001b[39mnp\u001b[39;00m\n",
      "\u001b[1;31mModuleNotFoundError\u001b[0m: No module named 'numpy'"
     ]
    }
   ],
   "source": [
    "#creating lists as array\n",
    "import numpy as np"
   ]
  },
  {
   "cell_type": "code",
   "execution_count": 11,
   "metadata": {},
   "outputs": [
    {
     "ename": "NameError",
     "evalue": "name 'np' is not defined",
     "output_type": "error",
     "traceback": [
      "\u001b[1;31m---------------------------------------------------------------------------\u001b[0m",
      "\u001b[1;31mNameError\u001b[0m                                 Traceback (most recent call last)",
      "\u001b[1;32mc:\\Users\\STUDENT\\Desktop\\WITI Cohort 3\\year one\\sem 1\\Data science and Machine learning\\assignment\\SESSION6.ipynb Cell 10\u001b[0m line \u001b[0;36m1\n\u001b[1;32m----> <a href='vscode-notebook-cell:/c%3A/Users/STUDENT/Desktop/WITI%20Cohort%203/year%20one/sem%201/Data%20science%20and%20Machine%20learning/assignment/SESSION6.ipynb#X12sZmlsZQ%3D%3D?line=0'>1</a>\u001b[0m CJ_array \u001b[39m=\u001b[39mnp\u001b[39m.\u001b[39marray(CJ)\n",
      "\u001b[1;31mNameError\u001b[0m: name 'np' is not defined"
     ]
    }
   ],
   "source": [
    "CJ_array =np.array(CJ)"
   ]
  },
  {
   "cell_type": "code",
   "execution_count": 12,
   "metadata": {},
   "outputs": [
    {
     "ename": "NameError",
     "evalue": "name 'np' is not defined",
     "output_type": "error",
     "traceback": [
      "\u001b[1;31m---------------------------------------------------------------------------\u001b[0m",
      "\u001b[1;31mNameError\u001b[0m                                 Traceback (most recent call last)",
      "\u001b[1;32mc:\\Users\\STUDENT\\Desktop\\WITI Cohort 3\\year one\\sem 1\\Data science and Machine learning\\assignment\\SESSION6.ipynb Cell 11\u001b[0m line \u001b[0;36m1\n\u001b[1;32m----> <a href='vscode-notebook-cell:/c%3A/Users/STUDENT/Desktop/WITI%20Cohort%203/year%20one/sem%201/Data%20science%20and%20Machine%20learning/assignment/SESSION6.ipynb#X13sZmlsZQ%3D%3D?line=0'>1</a>\u001b[0m KFC_array \u001b[39m=\u001b[39mnp\u001b[39m.\u001b[39marray(KFC)\n",
      "\u001b[1;31mNameError\u001b[0m: name 'np' is not defined"
     ]
    }
   ],
   "source": [
    "KFC_array =np.array(KFC)"
   ]
  },
  {
   "cell_type": "code",
   "execution_count": 13,
   "metadata": {},
   "outputs": [
    {
     "ename": "NameError",
     "evalue": "name 'CJ_array' is not defined",
     "output_type": "error",
     "traceback": [
      "\u001b[1;31m---------------------------------------------------------------------------\u001b[0m",
      "\u001b[1;31mNameError\u001b[0m                                 Traceback (most recent call last)",
      "\u001b[1;32mc:\\Users\\STUDENT\\Desktop\\WITI Cohort 3\\year one\\sem 1\\Data science and Machine learning\\assignment\\SESSION6.ipynb Cell 12\u001b[0m line \u001b[0;36m1\n\u001b[1;32m----> <a href='vscode-notebook-cell:/c%3A/Users/STUDENT/Desktop/WITI%20Cohort%203/year%20one/sem%201/Data%20science%20and%20Machine%20learning/assignment/SESSION6.ipynb#X14sZmlsZQ%3D%3D?line=0'>1</a>\u001b[0m CJ_array\u001b[39m.\u001b[39mdtype\n",
      "\u001b[1;31mNameError\u001b[0m: name 'CJ_array' is not defined"
     ]
    }
   ],
   "source": [
    "CJ_array.dtype"
   ]
  },
  {
   "cell_type": "code",
   "execution_count": null,
   "metadata": {},
   "outputs": [],
   "source": [
    "KFC_array =np.dtype"
   ]
  },
  {
   "cell_type": "code",
   "execution_count": 14,
   "metadata": {},
   "outputs": [
    {
     "ename": "NameError",
     "evalue": "name 'CJ_array' is not defined",
     "output_type": "error",
     "traceback": [
      "\u001b[1;31m---------------------------------------------------------------------------\u001b[0m",
      "\u001b[1;31mNameError\u001b[0m                                 Traceback (most recent call last)",
      "\u001b[1;32mc:\\Users\\STUDENT\\Desktop\\WITI Cohort 3\\year one\\sem 1\\Data science and Machine learning\\assignment\\SESSION6.ipynb Cell 14\u001b[0m line \u001b[0;36m1\n\u001b[1;32m----> <a href='vscode-notebook-cell:/c%3A/Users/STUDENT/Desktop/WITI%20Cohort%203/year%20one/sem%201/Data%20science%20and%20Machine%20learning/assignment/SESSION6.ipynb#X16sZmlsZQ%3D%3D?line=0'>1</a>\u001b[0m difference \u001b[39m=\u001b[39mCJ_array\u001b[39m-\u001b[39mKFC_array\n\u001b[0;32m      <a href='vscode-notebook-cell:/c%3A/Users/STUDENT/Desktop/WITI%20Cohort%203/year%20one/sem%201/Data%20science%20and%20Machine%20learning/assignment/SESSION6.ipynb#X16sZmlsZQ%3D%3D?line=1'>2</a>\u001b[0m \u001b[39mprint\u001b[39m(difference)\n",
      "\u001b[1;31mNameError\u001b[0m: name 'CJ_array' is not defined"
     ]
    }
   ],
   "source": [
    "difference =CJ_array-KFC_array\n",
    "print(difference)"
   ]
  },
  {
   "cell_type": "code",
   "execution_count": null,
   "metadata": {},
   "outputs": [],
   "source": [
    "import numpy as np"
   ]
  },
  {
   "cell_type": "code",
   "execution_count": null,
   "metadata": {},
   "outputs": [],
   "source": [
    "#another way of getting diference\n",
    "np.mean(CJ_array)-np.mean(KFC_array)"
   ]
  },
  {
   "cell_type": "code",
   "execution_count": null,
   "metadata": {},
   "outputs": [],
   "source": [
    "#standard deviation of the diference\n",
    "np.std(difference)\n",
    "print(np.std(difference))"
   ]
  }
 ],
 "metadata": {
  "kernelspec": {
   "display_name": "Python 3",
   "language": "python",
   "name": "python3"
  },
  "language_info": {
   "codemirror_mode": {
    "name": "ipython",
    "version": 3
   },
   "file_extension": ".py",
   "mimetype": "text/x-python",
   "name": "python",
   "nbconvert_exporter": "python",
   "pygments_lexer": "ipython3",
   "version": "3.11.5"
  },
  "orig_nbformat": 4
 },
 "nbformat": 4,
 "nbformat_minor": 2
}
